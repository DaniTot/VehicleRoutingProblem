{
 "metadata": {
  "language_info": {
   "codemirror_mode": {
    "name": "ipython",
    "version": 3
   },
   "file_extension": ".py",
   "mimetype": "text/x-python",
   "name": "python",
   "nbconvert_exporter": "python",
   "pygments_lexer": "ipython3",
   "version": "3.8.5-final"
  },
  "orig_nbformat": 2,
  "kernelspec": {
   "name": "python3",
   "display_name": "Python 3",
   "language": "python"
  }
 },
 "nbformat": 4,
 "nbformat_minor": 2,
 "cells": [
  {
   "source": [
    "# AE4441-16 CVRP\n"
   ],
   "cell_type": "markdown",
   "metadata": {}
  },
  {
   "source": [
    "# VRP CLASS"
   ],
   "cell_type": "markdown",
   "metadata": {}
  },
  {
   "cell_type": "code",
   "execution_count": null,
   "metadata": {},
   "outputs": [],
   "source": [
    "from vrp import VRP\n",
    "import matplotlib.pyplot as plt"
   ]
  },
  {
   "cell_type": "code",
   "execution_count": null,
   "metadata": {},
   "outputs": [],
   "source": [
    "import numpy as np"
   ]
  },
  {
   "source": [
    "### Random Dataset test"
   ],
   "cell_type": "markdown",
   "metadata": {}
  },
  {
   "source": [
    "#### MTZ Formulation"
   ],
   "cell_type": "markdown",
   "metadata": {}
  },
  {
   "cell_type": "code",
   "execution_count": null,
   "metadata": {},
   "outputs": [],
   "source": [
    "n = 5\n",
    "k = 1\n",
    "Q = 48\n",
    "\n",
    "vrp = VRP()\n",
    "\n",
    "vrp.setup_random_data(number_of_customers=n, number_of_vehicles=k, vehicle_capacity=Q,        \n",
    "demand_lower=1, demand_higher=10)\n",
    "vrp.subtour_type = 'DFJ'\n",
    "vrp.setup()\n",
    "\n"
   ]
  },
  {
   "cell_type": "code",
   "execution_count": null,
   "metadata": {},
   "outputs": [],
   "source": [
    "# vrp.model.setParam(\"MIPGap\", 0.1)\n",
    "# vrp.model.Params.Threads = 2\n",
    "\n",
    "vrp.optimize()\n",
    "\n",
    "# vrp.visualize()"
   ]
  },
  {
   "source": [
    "### VISUALIZE"
   ],
   "cell_type": "markdown",
   "metadata": {}
  },
  {
   "cell_type": "code",
   "execution_count": null,
   "metadata": {},
   "outputs": [],
   "source": [
    "import networkx as nx"
   ]
  },
  {
   "cell_type": "code",
   "execution_count": null,
   "metadata": {},
   "outputs": [],
   "source": [
    "vrp.find_active_arcs()\n",
    "tours = vrp.subtour(vrp.K, vrp.active_arcs)\n",
    "print(tours)"
   ]
  },
  {
   "cell_type": "code",
   "execution_count": null,
   "metadata": {},
   "outputs": [],
   "source": [
    "\n",
    "cmap = plt.cm.get_cmap('hsv', len(vrp.K)+1)\n",
    "\n",
    "ax = plt.subplot()\n",
    "\n",
    "for k in tours.keys():\n",
    "    vehicle_color = cmap(k-1)[0:3]\n",
    "    vehicle_arcs = tours[k]\n",
    "    G = nx.DiGraph()\n",
    "    for tour in vehicle_arcs:\n",
    "        idx = 0\n",
    "        for node in tour:\n",
    "            node_pos = (vrp.nodes.iloc[node][0],vrp.nodes.iloc[node][1])\n",
    "            G.add_node(node,pos=node_pos)\n",
    "\n",
    "            if idx < len(tour)-1:\n",
    "                node_i = tour[idx]\n",
    "                node_j = tour[idx+1]\n",
    "                edge_cost = round(vrp.c[(node_i,node_j)],2)\n",
    "                G.add_edge( node_i, node_j, weight=edge_cost )\n",
    "                idx += 1\n",
    "\n",
    "        node_pos = nx.get_node_attributes(G,'pos')\n",
    "        weights = nx.get_edge_attributes(G,'weight')\n",
    "\n",
    "        # nx.draw_networkx_nodes(G, node_pos, ax=ax, node_size=600, node_color='w', edgecolors=vehicle_color)\n",
    "\n",
    "        nx.draw(G,node_pos,ax=ax, node_color='w', edgecolors=vehicle_color, edge_color= vehicle_color, label='k='+str(k) )\n",
    "\n",
    "        for node in node_pos.keys():\n",
    "            pos = node_pos[node]   \n",
    "\n",
    "            if node == vrp.V[0]:\n",
    "                offset = -0.15\n",
    "                comma_on = ','\n",
    "            elif node == vrp.V[-1]:\n",
    "                offset = 0.15\n",
    "            else:\n",
    "                offset = 0\n",
    "                comma_on=''\n",
    "            ax.text(pos[0] + offset, pos[1], s=str(node)+comma_on,horizontalalignment='center',verticalalignment='center')\n",
    "\n",
    "        # nx.draw_networkx_edges(G,node_pos,ax=ax,edge_color=vehicle_color)\n",
    "\n",
    "        # nx.draw_networkx_edge_labels(G,node_pos,ax=ax,edge_labels=weights)      \n",
    "\n",
    "xmin = vrp.nodes.min()['x_coord'] - 1\n",
    "ymin = vrp.nodes.min()['y_coord'] - 1\n",
    "\n",
    "xmax = vrp.nodes.max()['x_coord'] + 1\n",
    "ymax = vrp.nodes.max()['y_coord'] + 1\n",
    "\n",
    "ax.set(xlim=(xmin, xmax), ylim=(ymin, ymax))\n",
    "\n",
    "\n",
    "G = nx.DiGraph()\n",
    "pos = (vrp.nodes.iloc[0][0],vrp.nodes.iloc[0][1])\n",
    "G.add_node(0,pos=pos)\n",
    "node_pos = nx.get_node_attributes(G,'pos')\n",
    "nx.draw_networkx_nodes(G,node_pos,ax=ax, node_color='w', edgecolors='k')\n",
    "\n",
    "plt.legend(loc='lower right')\n",
    "\n",
    "\n",
    "plt.show()      "
   ]
  },
  {
   "cell_type": "code",
   "execution_count": null,
   "metadata": {},
   "outputs": [],
   "source": [
    "G = nx.Graph()"
   ]
  },
  {
   "cell_type": "code",
   "execution_count": null,
   "metadata": {},
   "outputs": [],
   "source": [
    "for node in vrp.V:\n",
    "    node_pos = (vrp.nodes.iloc[node][0],vrp.nodes.iloc[node][1])\n",
    "    G.add_node(node,pos=node_pos)\n",
    "\n",
    "for edge in vrp.c.keys():\n",
    "    if edge != (vrp.V[0],vrp.V[-1]) and edge[1] != vrp.V[-1]:\n",
    "        G.add_edge(edge[0],edge[1],weight=round(vrp.c[edge],2))"
   ]
  },
  {
   "cell_type": "code",
   "execution_count": null,
   "metadata": {},
   "outputs": [],
   "source": [
    "node_pos = nx.get_node_attributes(G,'pos')\n",
    "weights = nx.get_edge_attributes(G,'weight')"
   ]
  },
  {
   "cell_type": "code",
   "execution_count": null,
   "metadata": {},
   "outputs": [],
   "source": [
    "ax = plt.subplot()\n",
    "\n",
    "offset = 0\n",
    "nx.draw(G, node_pos, ax=ax, node_color='w', edgecolors='k')\n",
    "\n",
    "for node in vrp.V:\n",
    "    pos = (vrp.nodes.iloc[node][0],vrp.nodes.iloc[node][1])    \n",
    "\n",
    "    if node == vrp.V[0]:\n",
    "        offset = -0.05\n",
    "        comma_on = ','\n",
    "    elif node == vrp.V[-1]:\n",
    "        offset = 0.05\n",
    "    else:\n",
    "        offset = 0\n",
    "        comma_on=''\n",
    "    \n",
    "    plt.text(pos[0] + offset, pos[1], s=str(node)+comma_on, horizontalalignment='center', verticalalignment='center')\n",
    "\n",
    "nx.draw_networkx_edge_labels(G,node_pos,edge_labels=weights)\n",
    "plt.show()"
   ]
  },
  {
   "source": [
    "#### DFJ formulation"
   ],
   "cell_type": "markdown",
   "metadata": {}
  },
  {
   "cell_type": "code",
   "execution_count": null,
   "metadata": {},
   "outputs": [],
   "source": []
  },
  {
   "cell_type": "code",
   "execution_count": null,
   "metadata": {},
   "outputs": [],
   "source": [
    "n = 5\n",
    "k = 3\n",
    "\n",
    "vrp = VRP()\n",
    "\n",
    "vrp.setup_random_data(number_of_customers=n, number_of_vehicles=k,               \n",
    "demand_lower=1, demand_higher=10)\n",
    "vrp.subtour_type = 'DFJ'\n",
    "vrp.setup()\n",
    "\n",
    "vrp.model.setParam(\"MIPGap\", 0.1)\n",
    "vrp.model.Params.Threads = 2\n",
    "\n",
    "vrp.optimize()\n",
    "\n",
    "vrp.visualize()"
   ]
  },
  {
   "source": [
    "### preset dataset"
   ],
   "cell_type": "markdown",
   "metadata": {}
  },
  {
   "cell_type": "code",
   "execution_count": null,
   "metadata": {},
   "outputs": [],
   "source": [
    "import numpy as np\n",
    "import pandas as pd\n",
    "\n",
    "from vrp import VRP"
   ]
  },
  {
   "cell_type": "code",
   "execution_count": null,
   "metadata": {},
   "outputs": [],
   "source": [
    "k = 5  # number of vehicles\n"
   ]
  },
  {
   "cell_type": "code",
   "execution_count": null,
   "metadata": {},
   "outputs": [],
   "source": [
    "file_name=\"validation_data_A/A-n32-k5.vrp\""
   ]
  },
  {
   "cell_type": "code",
   "execution_count": null,
   "metadata": {},
   "outputs": [],
   "source": [
    "f = open(file_name,'r')\n",
    "lines = f.readlines()\n",
    "f.close()"
   ]
  },
  {
   "cell_type": "code",
   "execution_count": null,
   "metadata": {},
   "outputs": [],
   "source": [
    "found_nodes = False\n",
    "found_demand = False\n",
    "\n",
    "nodes = []\n",
    "V = []\n",
    "q = {}\n",
    "\n",
    "depot_node = []\n",
    "\n",
    "for line in lines:\n",
    "\n",
    "    if \"NAME\" in line:\n",
    "        datasetname = line.strip(\"NAME\").replace(\" : \",\"\")\n",
    "\n",
    "    elif \"CAPACITY\" in line:\n",
    "        Q = int(line.strip(\"CAPACITY\").replace(\" : \",\"\"))\n",
    "\n",
    "    elif \"NODE_COORD_SECTION\" in line:\n",
    "        found_nodes = True\n",
    "\n",
    "    elif \"DEMAND_SECTION\" in line:\n",
    "        found_nodes  = False\n",
    "        found_demand = True\n",
    "    elif \"DEPOT_SECTION\" in line:\n",
    "        found_demand = False\n",
    "    elif \"EOF\" in line:\n",
    "        break\n",
    "\n",
    "    elif found_nodes == True:\n",
    "        node = line.split()\n",
    "\n",
    "        node_no = int(node[0]) - 1\n",
    "        node_x = int(node[1])\n",
    "        node_y = int(node[2])\n",
    "\n",
    "        V.append( node_no )\n",
    "        nodes.append([node_x,node_y])\n",
    "\n",
    "    elif found_demand == True:\n",
    "        demand       = line.split()\n",
    "        demand_node  = int(demand[0]) - 1\n",
    "        demand_value = int(demand[1])\n",
    "\n",
    "        if demand_node != 0:\n",
    "            q[demand_node] = demand_value               \n",
    "\n",
    "# add n+1 to all nodes\n",
    "V.append(len(V))\n",
    "# add destination depot node \n",
    "nodes.append(nodes[0])\n",
    "\n",
    "V     = np.array(V)\n",
    "nodes = np.array(nodes)\n",
    "\n",
    "N = V[1:-1]\n"
   ]
  },
  {
   "cell_type": "code",
   "execution_count": null,
   "metadata": {},
   "outputs": [],
   "source": [
    "vrp = VRP()"
   ]
  },
  {
   "cell_type": "code",
   "execution_count": null,
   "metadata": {},
   "outputs": [],
   "source": [
    "vrp.n = len(N)\n",
    "vrp.number_of_customers = vrp.n\n",
    "vrp.K = np.arange(1,k+1)\n",
    "vrp.V = V\n",
    "vrp.N = N\n",
    "\n",
    "vrp.nodes = pd.DataFrame(nodes,columns=['x_coord', 'y_coord'])\n",
    "vrp.Q = Q\n",
    "vrp.q = q\n",
    "vrp.subtour_type = 'DFJ'\n",
    "\n",
    "vrp.create_arcs()"
   ]
  },
  {
   "cell_type": "code",
   "execution_count": null,
   "metadata": {},
   "outputs": [],
   "source": [
    "vrp.setup()\n",
    "vrp.model.Params.Threads = 2\n"
   ]
  },
  {
   "cell_type": "code",
   "execution_count": null,
   "metadata": {},
   "outputs": [],
   "source": [
    "vrp.optimize()"
   ]
  },
  {
   "cell_type": "code",
   "execution_count": null,
   "metadata": {},
   "outputs": [],
   "source": [
    "vrp.visualize()"
   ]
  },
  {
   "source": [
    "#### MTZ formulation"
   ],
   "cell_type": "markdown",
   "metadata": {}
  },
  {
   "cell_type": "code",
   "execution_count": null,
   "metadata": {},
   "outputs": [],
   "source": [
    "vrp_mtz = VRP()\n",
    "\n",
    "vrp_mtz.setup_preset_data(file_name=\"validation_data_A/A-n32-k5.vrp\",\n",
    "                          number_of_vehicles=k)\n"
   ]
  },
  {
   "cell_type": "code",
   "execution_count": null,
   "metadata": {},
   "outputs": [],
   "source": [
    "vrp_mtz.visualize(plot_sol='n')"
   ]
  },
  {
   "source": [
    "# PROTOTYPE"
   ],
   "cell_type": "markdown",
   "metadata": {}
  },
  {
   "cell_type": "code",
   "execution_count": null,
   "metadata": {},
   "outputs": [],
   "source": [
    "import numpy as np\n",
    "import matplotlib.pyplot as plt\n",
    "from itertools import product"
   ]
  },
  {
   "cell_type": "code",
   "execution_count": null,
   "metadata": {},
   "outputs": [],
   "source": [
    "rnd = np.random\n",
    "rnd.seed(420)"
   ]
  },
  {
   "cell_type": "code",
   "execution_count": null,
   "metadata": {},
   "outputs": [],
   "source": [
    "n = 15  # number of clients\n",
    "k = 2 # number of vehicles\n",
    "\n",
    "xc = rnd.rand(n+1)*10\n",
    "yc = rnd.rand(n+1)*10"
   ]
  },
  {
   "cell_type": "code",
   "execution_count": null,
   "metadata": {},
   "outputs": [],
   "source": [
    "plt.plot(xc[0], yc[0], c='r', marker='s')\n",
    "plt.scatter(xc[1:], yc[1:], c='b')"
   ]
  },
  {
   "cell_type": "code",
   "execution_count": null,
   "metadata": {},
   "outputs": [],
   "source": [
    "N = np.arange(1,n+1)                            # set of clients\n",
    "V = np.concatenate( ([0], N, [n+1]) )           # set of nodes (depot + client)\n",
    "K = np.arange(1,k+1)                            # set of vehicles\n",
    "A = [(i, j) for i in V for j in V if i != j]    # arcs between nodes and vehicle k"
   ]
  },
  {
   "cell_type": "code",
   "execution_count": null,
   "metadata": {},
   "outputs": [],
   "source": [
    "node_vertices = []\n",
    "for i in range(0,n+2):\n",
    "    if i == 0:\n",
    "        vertex = (xc[i],yc[i])\n",
    "    elif i == n+1:\n",
    "        vertex = (xc[0],yc[0])\n",
    "    else:\n",
    "        vertex = (xc[i],yc[i])\n",
    "\n",
    "    node_vertices.append(vertex)\n",
    "\n",
    "node_vertices = np.array(node_vertices)"
   ]
  },
  {
   "cell_type": "code",
   "execution_count": null,
   "metadata": {},
   "outputs": [],
   "source": [
    "c = {(i, j):  ( (node_vertices[i,0]-node_vertices[j,0])**2 + (node_vertices[i,1]-node_vertices[j,1])**2 )**0.5 for i, j in A} # Calculate euclidian distance between each node\n",
    "\n",
    "q = {i: np.random.randint(1,10) for i in N}        # amount that needs to be delivered\n",
    "\n",
    "Q =  sum( q.values() )  // len(K)  + 1 # ensure that the demand can always be fulfilled\n",
    "\n",
    "print(\"totaldemand\", sum( q.values() ), \"Totalcapacity\",Q*len(K) )"
   ]
  },
  {
   "source": [
    "## Model VRP"
   ],
   "cell_type": "markdown",
   "metadata": {}
  },
  {
   "cell_type": "code",
   "execution_count": null,
   "metadata": {},
   "outputs": [],
   "source": [
    "from gurobipy import Model, GRB, quicksum, LinExpr, tuplelist"
   ]
  },
  {
   "cell_type": "code",
   "execution_count": null,
   "metadata": {},
   "outputs": [],
   "source": [
    "mdl = Model()\n",
    "mdl.Params.TimeLimit = 100  # seconds"
   ]
  },
  {
   "cell_type": "code",
   "execution_count": null,
   "metadata": {},
   "outputs": [],
   "source": [
    "x = {}\n",
    "for i,j in A:\n",
    "    for k in K:\n",
    "        x[i,j,k] = mdl.addVar(vtype=GRB.BINARY, name = \"x_{}{}{}\".format(i,j,k))\n",
    "u = {}\n",
    "for i in N:\n",
    "    for k in K:\n",
    "        u[i,k] = mdl.addVar(vtype=GRB.CONTINUOUS, name = \"u_{}{}\".format(i,k))"
   ]
  },
  {
   "source": [
    "## *Objective function (minimization of transportation cost)*\n",
    "$$min\\sum_{k=1}^K \\sum_{i=0}^{n} \\sum_{j=1,j \\neq i}^{n+1} c_{ij}x_{ij}^{k}$$\n",
    "\n",
    "Where \n",
    "- Central depot and set of customers (nodes) $\\{1,...,n\\}$. Central depot is divided in origin (node $0$) and destination depot (node $n+1$)\n",
    "- Fleet of vehicles $\\{1,...,K\\}$. $K$ number of vehicles\n",
    "- Decision variable: $x_{ij}^{k} = 1$ if vehicle $k$ goes from node $i$ to node $j$"
   ],
   "cell_type": "markdown",
   "metadata": {}
  },
  {
   "cell_type": "code",
   "execution_count": null,
   "metadata": {},
   "outputs": [],
   "source": [
    "\n",
    "obj = LinExpr()\n",
    "\n",
    "for k in K:\n",
    "    for i in V:\n",
    "        if i < n+1:\n",
    "            for j in V:\n",
    "                if j >= 1 and j != i:\n",
    "                    obj += c[i,j]*x[i,j,k]\n",
    "\n",
    "mdl.setObjective(obj, sense=GRB.MINIMIZE)\n",
    "\n",
    "# mdl.setObjective(quicksum(quicksum(c[i, j]*x[i,j,k] for i ,j in A) for k in K))\n",
    "\n",
    "mdl.update()\n",
    "\n"
   ]
  },
  {
   "source": [
    "## *Constraints*\n",
    "\n",
    "Each vehicle must leave the depot\n",
    "$$\\sum_{j=1}^{n+1} x_{0j}^{k}, k = 1,..., K $$ \n",
    "Each vehicle must return to the depot\n",
    "$$\\sum_{j=0}^{n} x_{j,n+1}^{k}, k = 1,..., K $$"
   ],
   "cell_type": "markdown",
   "metadata": {}
  },
  {
   "cell_type": "code",
   "execution_count": null,
   "metadata": {},
   "outputs": [],
   "source": [
    "# Each vehicle must leave the depot\n",
    "for k in K:\n",
    "    mdl.addConstr( quicksum(x[V[0],j,k] for j in V if j >= 1 ) == 1 , name=f\"Start_{k}\")\n",
    "\n",
    "# Each vehicle must return the depot\n",
    "for k in K:\n",
    "    mdl.addConstr( quicksum(x[j,V[n+1],k] for j in V if j < n + 1 ) == 1 , name=f\"Finish_{k}\")\n",
    "\n",
    "mdl.update()\n"
   ]
  },
  {
   "source": [
    "Each customer must be visited by a vehicle: \n",
    "\n",
    "$$\\sum_{k=1}^{K}\\sum_{j=0,j \\neq i}^{n} x_{ji}^{k}, i = 1,..., n $$ \n"
   ],
   "cell_type": "markdown",
   "metadata": {}
  },
  {
   "cell_type": "code",
   "execution_count": null,
   "metadata": {},
   "outputs": [],
   "source": [
    "# Each customer must be visited by a vehicle\n",
    "\n",
    "\n",
    "for i in N:\n",
    "    mdl.addConstr( quicksum( quicksum(x[j,i,k] for j in V if j < n +1 and j != i) for k in K) == 1 )\n",
    "\n",
    "mdl.update()\n"
   ]
  },
  {
   "source": [
    "If a vehicle visits a customer, then the same vehicle must leave that customer: \n",
    "\n",
    "$$\\sum_{j=0,j \\neq i}^{n} x_{ji}^{k} = \\sum_{j=1,j \\neq i}^{n+1} x_{ij}^{k} , i = 1,..., n, k = 1,...,K $$ \n"
   ],
   "cell_type": "markdown",
   "metadata": {}
  },
  {
   "cell_type": "code",
   "execution_count": null,
   "metadata": {},
   "outputs": [],
   "source": [
    "\n",
    "# If a vehicle visits a customer, then the same vehicle must leave that customer)\n",
    "for i in N:\n",
    "    for k in K:\n",
    "        mdl.addConstr( lhs=quicksum(x[j,i,k] for j in V if j < n+1 and j!= i), sense=GRB.EQUAL, rhs= quicksum(x[i,j,k] for j in V if j >= 1 and j!= i))\n",
    "\n",
    "mdl.update()\n"
   ]
  },
  {
   "cell_type": "code",
   "execution_count": null,
   "metadata": {},
   "outputs": [],
   "source": [
    "subtour_type = 'DFJ'"
   ]
  },
  {
   "source": [
    "Subtour elimination constraint (Dantzig-Fulkerson Johnson)\n",
    "\n",
    "$$\\sum_{i\\in S}\\sum_{j \\in S,j \\neq i} x_{ij} \\leq |S| - 1$$"
   ],
   "cell_type": "markdown",
   "metadata": {}
  },
  {
   "cell_type": "code",
   "execution_count": null,
   "metadata": {},
   "outputs": [],
   "source": [
    "def subtourelim(self, where=0):\n",
    "    if where == GRB.callback.MIPSOL:\n",
    "\n",
    "        active_arcs = []\n",
    "\n",
    "        for i,j in A:\n",
    "            for k in K:\n",
    "                solutions = self.cbGetSolution(self._vars)\n",
    "                if solutions[i,j,k] > 0.5:\n",
    "                    active_arcs.append([i,j,k])\n",
    "\n",
    "        active_arcs = np.vstack(active_arcs)\n",
    "\n",
    "        tours = subtour(active_arcs)\n",
    "\n",
    "\n",
    "        for k in tours.keys():\n",
    "            if len(tours[k]) > 1:\n",
    "                for tour in tours[k]:\n",
    "                    S = np.unique(tour)\n",
    "                    expr = quicksum(self._vars[i,j,k] for i in S for j in S if j != i)\n",
    "                    self.cbLazy(expr <= len(S) - 1)\n",
    "    else:\n",
    "        active_arcs = []\n",
    "\n",
    "        for i,j in A:\n",
    "            for k in K:\n",
    "                solutions = self._vars\n",
    "                if solutions[i,j,k].x > 0.5:\n",
    "                    active_arcs.append([i,j,k])\n",
    "\n",
    "        active_arcs = np.vstack(active_arcs)\n",
    "\n",
    "        tours = subtour(active_arcs)\n",
    "\n",
    "\n",
    "        for k in tours.keys():\n",
    "            if len(tours[k]) > 1:\n",
    "                for tour in tours[k]:\n",
    "                    S = np.unique(tour)\n",
    "                    expr = quicksum(self._vars[i,j,k] for i in S for j in S if j != i)\n",
    "                    mdl.addLConstr(expr <= len(S) - 1)\n",
    "\n",
    "\n",
    "def subtour(active_arcs):\n",
    "    tours = {}\n",
    "\n",
    "    for k in K:\n",
    "        vehicle_tours = []\n",
    "        vehicle_arcs = active_arcs[np.where(active_arcs[:,2] == k)][:,0:2]\n",
    "        start_node, finish_node = vehicle_arcs[0]\n",
    "        # if finish_node == V[-1]:\n",
    "        #     finish_node = V[0]\n",
    "\n",
    "        tour = [start_node, finish_node]\n",
    "        vehicle_arcs = np.delete(vehicle_arcs,[0],axis=0)\n",
    "\n",
    "        subtour_done = 0\n",
    "\n",
    "        while True:\n",
    "            while True:\n",
    "                next_node = np.where(vehicle_arcs[:,0] == finish_node)\n",
    "\n",
    "                if next_node[0].size == 0:\n",
    "                    vehicle_tours.append(tour)\n",
    "                    break\n",
    "                else:\n",
    "                    start_node, finish_node = vehicle_arcs[next_node][0]\n",
    "                    # if finish_node == V[-1]:\n",
    "                    #     finish_node = V[0]\n",
    "                    vehicle_arcs = np.delete(vehicle_arcs,next_node[0], axis=0)\n",
    "\n",
    "                    tour.append(finish_node)\n",
    "\n",
    "            if vehicle_arcs.size != 0:\n",
    "                start_node, finish_node = vehicle_arcs[0]\n",
    "                vehicle_arcs = np.delete(vehicle_arcs,[0], axis=0)\n",
    "\n",
    "                # if finish_node == V[-1]:\n",
    "                #     finish_node = V[0]\n",
    "\n",
    "                tour = [start_node, finish_node]\n",
    "            else:\n",
    "                tours[k] = vehicle_tours\n",
    "                break\n",
    "        \n",
    "    return tours\n"
   ]
  },
  {
   "source": [
    "Subtour elimination constraint (miller-tucker-zemlin)\n",
    "\n",
    "$$u_{j} - u_{i} \\geq q_{j} - Q(1-x_{ijk}), i,j = \\{1,....,n\\}, i \\neq j$$"
   ],
   "cell_type": "markdown",
   "metadata": {}
  },
  {
   "cell_type": "code",
   "execution_count": null,
   "metadata": {},
   "outputs": [],
   "source": [
    "# Miller-Tucker-Zemlin formulation for subtour elimination\n",
    "\n",
    "if subtour_type == 'MTZ':\n",
    "    for k in K:\n",
    "        for i,j in A:\n",
    "            if i >= 1 and j >= 1:\n",
    "                if i != n+1 and j != n+1:\n",
    "                    mdl.addConstr( u[j,k] - u[i,k] >= q[j] - Q*(1 - x[i,j,k]) )\n",
    "\n",
    "    # Capacity constraint\n",
    "    for i in N:\n",
    "        for k in K:\n",
    "            mdl.addConstr(u[i,k] >= q[i])\n",
    "            mdl.addConstr(u[i,k] <= Q)\n",
    "            \n",
    "# DFJ formulation for subtour elimination\n",
    "elif subtour_type == 'DFJ':\n",
    "    for k in K:\n",
    "        mdl.addConstr( quicksum(quicksum(q[j]*x[i,j,k] for j in N if j !=i) for i in V if i < n + 1) <= Q )\n",
    "\n",
    "\n",
    "mdl.update()"
   ]
  },
  {
   "cell_type": "code",
   "execution_count": null,
   "metadata": {},
   "outputs": [],
   "source": [
    "mdl.write('test.lp')\n",
    "mdl._vars = x"
   ]
  },
  {
   "source": [
    "### OPTIMIZE"
   ],
   "cell_type": "markdown",
   "metadata": {}
  },
  {
   "cell_type": "code",
   "execution_count": null,
   "metadata": {
    "tags": [
     "outputPrepend"
    ]
   },
   "outputs": [],
   "source": [
    "if subtour_type == \"MTZ\":\n",
    "    mdl.optimize()\n",
    "elif subtour_type == \"DFJ\":\n",
    "    while True:\n",
    "        tour_length = 0\n",
    "    # mdl.Params.lazyConstraints = 1\n",
    "        mdl.optimize()\n",
    "        subtourelim(mdl)\n",
    "        active_arcs = []\n",
    "        for i,j in A:\n",
    "            for k in K:\n",
    "                if x[i,j,k].x > 0.99:\n",
    "                    active_arcs.append([i,j,k])\n",
    "\n",
    "        active_arcs = np.vstack(active_arcs)\n",
    "        tours       = subtour(active_arcs)\n",
    "        for k in K:\n",
    "            tour_length += len(tours[k])\n",
    "        \n",
    "        if tour_length == len(K):\n",
    "            break\n",
    "        \n",
    "            \n",
    "\n"
   ]
  },
  {
   "source": [
    "def get_cmap(n, name='hsv'):\n",
    "    '''Returns a function that maps each index in 0, 1, ..., n-1 to a distinct \n",
    "    RGB color; the keyword argument name must be a standard mpl colormap name.'''\n",
    "    return plt.cm.get_cmap(name, n)"
   ],
   "cell_type": "code",
   "metadata": {},
   "execution_count": null,
   "outputs": []
  },
  {
   "cell_type": "code",
   "execution_count": null,
   "metadata": {},
   "outputs": [],
   "source": [
    "cmap = get_cmap(len(K)+1)\n",
    "\n",
    "for k in K:\n",
    "    vehicle_arcs = active_arcs[ np.where(active_arcs[:,2] == k) ]\n",
    "    for i, j, k_ in vehicle_arcs:\n",
    "        plt.plot([node_vertices[i,0], node_vertices[j,0]], [node_vertices[i,1], node_vertices[j,1]], c = cmap(k), zorder=0)\n",
    "\n",
    "# plot depot\n",
    "plt.plot(xc[0], yc[0], c='r', marker='s')\n",
    "plt.annotate(\"$d_{}$\".format(V[0]),(xc[0]+1,yc[0]+1) )\n",
    "\n",
    "# plot customers\n",
    "plt.scatter(xc[1:], yc[1:], c='b')\n",
    "for i in N:\n",
    "    plt.annotate(\"$q_{}$\".format(i), (xc[i]+0.1,yc[i]-2.5) )"
   ]
  },
  {
   "cell_type": "code",
   "execution_count": null,
   "metadata": {},
   "outputs": [],
   "source": []
  }
 ]
}